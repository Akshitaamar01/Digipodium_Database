{
    "metadata": {
        "kernelspec": {
            "name": "SQL",
            "display_name": "SQL",
            "language": "sql"
        },
        "language_info": {
            "name": "sql",
            "version": ""
        }
    },
    "nbformat_minor": 2,
    "nbformat": 4,
    "cells": [
        {
            "cell_type": "code",
            "source": [
                "use sales;"
            ],
            "metadata": {
                "azdata_cell_guid": "f5a64161-7220-4c83-bb43-995ac9190461",
                "language": "sql"
            },
            "outputs": [
                {
                    "output_type": "display_data",
                    "data": {
                        "text/html": "Commands completed successfully"
                    },
                    "metadata": {}
                },
                {
                    "output_type": "display_data",
                    "data": {
                        "text/html": "Total execution time: 00:00:00"
                    },
                    "metadata": {}
                }
            ],
            "execution_count": 1
        },
        {
            "cell_type": "code",
            "source": [
                "select * from customers limit 2;"
            ],
            "metadata": {
                "azdata_cell_guid": "0a1acd7f-c34d-4b2d-b69b-da477b973a1f",
                "language": "sql"
            },
            "outputs": [
                {
                    "output_type": "display_data",
                    "data": {
                        "text/html": "(2 row(s) affected)"
                    },
                    "metadata": {}
                },
                {
                    "output_type": "display_data",
                    "data": {
                        "text/html": "Total execution time: 00:00:01.029"
                    },
                    "metadata": {}
                },
                {
                    "output_type": "execute_result",
                    "metadata": {},
                    "execution_count": 2,
                    "data": {
                        "application/vnd.dataresource+json": {
                            "schema": {
                                "fields": [
                                    {
                                        "name": "CID"
                                    },
                                    {
                                        "name": "FirstName"
                                    },
                                    {
                                        "name": "LastName"
                                    },
                                    {
                                        "name": "Address"
                                    },
                                    {
                                        "name": "City"
                                    },
                                    {
                                        "name": "State"
                                    },
                                    {
                                        "name": "Zip"
                                    },
                                    {
                                        "name": "email"
                                    },
                                    {
                                        "name": "phone"
                                    }
                                ]
                            },
                            "data": [
                                {
                                    "CID": "AB98",
                                    "FirstName": "Aiden",
                                    "LastName": "Berg",
                                    "Address": "11367 Maple Street",
                                    "City": "Delhi",
                                    "State": "CA",
                                    "Zip": "95315",
                                    "email": "Aiden.Berg@gmail.com",
                                    "phone": "123"
                                },
                                {
                                    "CID": "AC75",
                                    "FirstName": "Arianna",
                                    "LastName": "Cruz",
                                    "Address": "13944 Myrtle Avenue",
                                    "City": "Huntington",
                                    "State": "WV",
                                    "Zip": "25770",
                                    "email": "Arianna.Cruz@excite.com",
                                    "phone": "NULL"
                                }
                            ]
                        },
                        "text/html": [
                            "<table>",
                            "<tr><th>CID</th><th>FirstName</th><th>LastName</th><th>Address</th><th>City</th><th>State</th><th>Zip</th><th>email</th><th>phone</th></tr>",
                            "<tr><td>AB98</td><td>Aiden</td><td>Berg</td><td>11367 Maple Street</td><td>Delhi</td><td>CA</td><td>95315</td><td>Aiden.Berg@gmail.com</td><td>123</td></tr>",
                            "<tr><td>AC75</td><td>Arianna</td><td>Cruz</td><td>13944 Myrtle Avenue</td><td>Huntington</td><td>WV</td><td>25770</td><td>Arianna.Cruz@excite.com</td><td>NULL</td></tr>",
                            "</table>"
                        ]
                    }
                }
            ],
            "execution_count": 2
        },
        {
            "cell_type": "code",
            "source": [
                "select \r\n",
                "    count(CID), \r\n",
                "    State,\r\n",
                "    if (count(cid) >= 10, \"✅\",\"❌\") as importance\r\n",
                "from customers\r\n",
                "group by State\r\n",
                "order by importance;"
            ],
            "metadata": {
                "language": "sql",
                "azdata_cell_guid": "66d75582-7280-4b87-8079-15cacb9c5d13",
                "tags": []
            },
            "outputs": [
                {
                    "output_type": "display_data",
                    "data": {
                        "text/html": "(47 row(s) affected)"
                    },
                    "metadata": {}
                },
                {
                    "output_type": "display_data",
                    "data": {
                        "text/html": "Total execution time: 00:00:01.044"
                    },
                    "metadata": {}
                },
                {
                    "output_type": "execute_result",
                    "metadata": {},
                    "execution_count": 16,
                    "data": {
                        "application/vnd.dataresource+json": {
                            "schema": {
                                "fields": [
                                    {
                                        "name": "count(CID)"
                                    },
                                    {
                                        "name": "State"
                                    },
                                    {
                                        "name": "importance"
                                    }
                                ]
                            },
                            "data": [
                                {
                                    "count(CID)": "18",
                                    "State": "CA",
                                    "importance": "✅"
                                },
                                {
                                    "count(CID)": "12",
                                    "State": "TX",
                                    "importance": "✅"
                                },
                                {
                                    "count(CID)": "11",
                                    "State": "TN",
                                    "importance": "✅"
                                },
                                {
                                    "count(CID)": "4",
                                    "State": "WV",
                                    "importance": "❌"
                                },
                                {
                                    "count(CID)": "6",
                                    "State": "MN",
                                    "importance": "❌"
                                },
                                {
                                    "count(CID)": "8",
                                    "State": "OH",
                                    "importance": "❌"
                                },
                                {
                                    "count(CID)": "8",
                                    "State": "WI",
                                    "importance": "❌"
                                },
                                {
                                    "count(CID)": "7",
                                    "State": "AL",
                                    "importance": "❌"
                                },
                                {
                                    "count(CID)": "5",
                                    "State": "FL",
                                    "importance": "❌"
                                },
                                {
                                    "count(CID)": "8",
                                    "State": "NY",
                                    "importance": "❌"
                                },
                                {
                                    "count(CID)": "7",
                                    "State": "MO",
                                    "importance": "❌"
                                },
                                {
                                    "count(CID)": "7",
                                    "State": "AR",
                                    "importance": "❌"
                                },
                                {
                                    "count(CID)": "7",
                                    "State": "PA",
                                    "importance": "❌"
                                },
                                {
                                    "count(CID)": "6",
                                    "State": "MI",
                                    "importance": "❌"
                                },
                                {
                                    "count(CID)": "4",
                                    "State": "VA",
                                    "importance": "❌"
                                },
                                {
                                    "count(CID)": "7",
                                    "State": "MA",
                                    "importance": "❌"
                                },
                                {
                                    "count(CID)": "3",
                                    "State": "GA",
                                    "importance": "❌"
                                },
                                {
                                    "count(CID)": "5",
                                    "State": "CO",
                                    "importance": "❌"
                                },
                                {
                                    "count(CID)": "3",
                                    "State": "NE",
                                    "importance": "❌"
                                },
                                {
                                    "count(CID)": "5",
                                    "State": "WA",
                                    "importance": "❌"
                                },
                                {
                                    "count(CID)": "4",
                                    "State": "MS",
                                    "importance": "❌"
                                },
                                {
                                    "count(CID)": "2",
                                    "State": "ND",
                                    "importance": "❌"
                                },
                                {
                                    "count(CID)": "3",
                                    "State": "NM",
                                    "importance": "❌"
                                },
                                {
                                    "count(CID)": "4",
                                    "State": "KS",
                                    "importance": "❌"
                                },
                                {
                                    "count(CID)": "1",
                                    "State": "NC",
                                    "importance": "❌"
                                },
                                {
                                    "count(CID)": "4",
                                    "State": "KY",
                                    "importance": "❌"
                                },
                                {
                                    "count(CID)": "2",
                                    "State": "MT",
                                    "importance": "❌"
                                },
                                {
                                    "count(CID)": "2",
                                    "State": "IN",
                                    "importance": "❌"
                                },
                                {
                                    "count(CID)": "4",
                                    "State": "OK",
                                    "importance": "❌"
                                },
                                {
                                    "count(CID)": "1",
                                    "State": "VT",
                                    "importance": "❌"
                                },
                                {
                                    "count(CID)": "3",
                                    "State": "IL",
                                    "importance": "❌"
                                },
                                {
                                    "count(CID)": "2",
                                    "State": "LA",
                                    "importance": "❌"
                                },
                                {
                                    "count(CID)": "3",
                                    "State": "UT",
                                    "importance": "❌"
                                },
                                {
                                    "count(CID)": "4",
                                    "State": "NJ",
                                    "importance": "❌"
                                },
                                {
                                    "count(CID)": "3",
                                    "State": "DC",
                                    "importance": "❌"
                                },
                                {
                                    "count(CID)": "1",
                                    "State": "ID",
                                    "importance": "❌"
                                },
                                {
                                    "count(CID)": "3",
                                    "State": "SD",
                                    "importance": "❌"
                                },
                                {
                                    "count(CID)": "3",
                                    "State": "OR",
                                    "importance": "❌"
                                },
                                {
                                    "count(CID)": "1",
                                    "State": "MD",
                                    "importance": "❌"
                                },
                                {
                                    "count(CID)": "1",
                                    "State": "SC",
                                    "importance": "❌"
                                },
                                {
                                    "count(CID)": "1",
                                    "State": "HI",
                                    "importance": "❌"
                                },
                                {
                                    "count(CID)": "1",
                                    "State": "ME",
                                    "importance": "❌"
                                },
                                {
                                    "count(CID)": "1",
                                    "State": "NV",
                                    "importance": "❌"
                                },
                                {
                                    "count(CID)": "3",
                                    "State": "AZ",
                                    "importance": "❌"
                                },
                                {
                                    "count(CID)": "2",
                                    "State": "IA",
                                    "importance": "❌"
                                },
                                {
                                    "count(CID)": "1",
                                    "State": "CT",
                                    "importance": "❌"
                                },
                                {
                                    "count(CID)": "1",
                                    "State": "NH",
                                    "importance": "❌"
                                }
                            ]
                        },
                        "text/html": [
                            "<table>",
                            "<tr><th>count(CID)</th><th>State</th><th>importance</th></tr>",
                            "<tr><td>18</td><td>CA</td><td>✅</td></tr>",
                            "<tr><td>12</td><td>TX</td><td>✅</td></tr>",
                            "<tr><td>11</td><td>TN</td><td>✅</td></tr>",
                            "<tr><td>4</td><td>WV</td><td>❌</td></tr>",
                            "<tr><td>6</td><td>MN</td><td>❌</td></tr>",
                            "<tr><td>8</td><td>OH</td><td>❌</td></tr>",
                            "<tr><td>8</td><td>WI</td><td>❌</td></tr>",
                            "<tr><td>7</td><td>AL</td><td>❌</td></tr>",
                            "<tr><td>5</td><td>FL</td><td>❌</td></tr>",
                            "<tr><td>8</td><td>NY</td><td>❌</td></tr>",
                            "<tr><td>7</td><td>MO</td><td>❌</td></tr>",
                            "<tr><td>7</td><td>AR</td><td>❌</td></tr>",
                            "<tr><td>7</td><td>PA</td><td>❌</td></tr>",
                            "<tr><td>6</td><td>MI</td><td>❌</td></tr>",
                            "<tr><td>4</td><td>VA</td><td>❌</td></tr>",
                            "<tr><td>7</td><td>MA</td><td>❌</td></tr>",
                            "<tr><td>3</td><td>GA</td><td>❌</td></tr>",
                            "<tr><td>5</td><td>CO</td><td>❌</td></tr>",
                            "<tr><td>3</td><td>NE</td><td>❌</td></tr>",
                            "<tr><td>5</td><td>WA</td><td>❌</td></tr>",
                            "<tr><td>4</td><td>MS</td><td>❌</td></tr>",
                            "<tr><td>2</td><td>ND</td><td>❌</td></tr>",
                            "<tr><td>3</td><td>NM</td><td>❌</td></tr>",
                            "<tr><td>4</td><td>KS</td><td>❌</td></tr>",
                            "<tr><td>1</td><td>NC</td><td>❌</td></tr>",
                            "<tr><td>4</td><td>KY</td><td>❌</td></tr>",
                            "<tr><td>2</td><td>MT</td><td>❌</td></tr>",
                            "<tr><td>2</td><td>IN</td><td>❌</td></tr>",
                            "<tr><td>4</td><td>OK</td><td>❌</td></tr>",
                            "<tr><td>1</td><td>VT</td><td>❌</td></tr>",
                            "<tr><td>3</td><td>IL</td><td>❌</td></tr>",
                            "<tr><td>2</td><td>LA</td><td>❌</td></tr>",
                            "<tr><td>3</td><td>UT</td><td>❌</td></tr>",
                            "<tr><td>4</td><td>NJ</td><td>❌</td></tr>",
                            "<tr><td>3</td><td>DC</td><td>❌</td></tr>",
                            "<tr><td>1</td><td>ID</td><td>❌</td></tr>",
                            "<tr><td>3</td><td>SD</td><td>❌</td></tr>",
                            "<tr><td>3</td><td>OR</td><td>❌</td></tr>",
                            "<tr><td>1</td><td>MD</td><td>❌</td></tr>",
                            "<tr><td>1</td><td>SC</td><td>❌</td></tr>",
                            "<tr><td>1</td><td>HI</td><td>❌</td></tr>",
                            "<tr><td>1</td><td>ME</td><td>❌</td></tr>",
                            "<tr><td>1</td><td>NV</td><td>❌</td></tr>",
                            "<tr><td>3</td><td>AZ</td><td>❌</td></tr>",
                            "<tr><td>2</td><td>IA</td><td>❌</td></tr>",
                            "<tr><td>1</td><td>CT</td><td>❌</td></tr>",
                            "<tr><td>1</td><td>NH</td><td>❌</td></tr>",
                            "</table>"
                        ]
                    }
                }
            ],
            "execution_count": 16
        },
        {
            "cell_type": "code",
            "source": [
                ""
            ],
            "metadata": {
                "language": "sql",
                "azdata_cell_guid": "32b8d82a-6820-4d5e-ae4c-dbb11d61f330"
            },
            "outputs": [],
            "execution_count": null
        }
    ]
}