{
    "metadata": {
        "kernelspec": {
            "name": "SQL",
            "display_name": "SQL",
            "language": "sql"
        },
        "language_info": {
            "name": "sql",
            "version": ""
        }
    },
    "nbformat_minor": 2,
    "nbformat": 4,
    "cells": [
        {
            "cell_type": "code",
            "source": [
                "use sakila;"
            ],
            "metadata": {
                "azdata_cell_guid": "016acbca-8d8d-4fed-9550-17c1e2a57ddb",
                "language": "sql"
            },
            "outputs": [
                {
                    "output_type": "display_data",
                    "data": {
                        "text/html": "Commands completed successfully"
                    },
                    "metadata": {}
                },
                {
                    "output_type": "display_data",
                    "data": {
                        "text/html": "Total execution time: 00:00:00.016"
                    },
                    "metadata": {}
                }
            ],
            "execution_count": 2
        },
        {
            "cell_type": "code",
            "source": [
                "-- Cross join between country and city\r\n",
                "SELECT\r\n",
                "    *\r\n",
                "from country CROSS JOIN city; \r\n",
                "--5k-6k records"
            ],
            "metadata": {
                "language": "sql",
                "azdata_cell_guid": "fb0426c7-a931-48a0-892f-7d591994f172"
            },
            "outputs": [
{
    "output_type": "display_data",
    "data": {
        "text/html": "Total execution time: 00:00:00.014"
    },
    "metadata": {}
}
],
            "execution_count": 3
        },
        {
            "cell_type": "code",
            "source": [
                ""
            ],
            "metadata": {
                "language": "sql",
                "azdata_cell_guid": "4c0e26fd-c1aa-4ed9-ba2b-bc8e77b6ba60"
            },
            "outputs": [],
            "execution_count": null
        }
    ]
}